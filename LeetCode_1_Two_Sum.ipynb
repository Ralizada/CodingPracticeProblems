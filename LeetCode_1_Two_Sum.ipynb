{
  "nbformat": 4,
  "nbformat_minor": 0,
  "metadata": {
    "colab": {
      "name": "LeetCode_1_Two_Sum.ipynb",
      "provenance": []
    },
    "kernelspec": {
      "name": "python3",
      "display_name": "Python 3"
    }
  },
  "cells": [
    {
      "cell_type": "markdown",
      "metadata": {
        "id": "TuSYxo0ihVk9",
        "colab_type": "text"
      },
      "source": [
        "1. Two Sum - Easy\n",
        "\n",
        "Given an array of integers, return indices of the two numbers such that they add up to a specific target.\n",
        "\n",
        "You may assume that each input would have exactly one solution, and you may not use the same element twice.\n",
        "\n",
        "Example:\n",
        "\n",
        "Given nums = [2, 7, 11, 15], target = 9,\n",
        "\n",
        "Because nums[0] + nums[1] = 2 + 7 = 9,\n",
        "return [0, 1]."
      ]
    },
    {
      "cell_type": "code",
      "metadata": {
        "id": "LYQNcaukfKB3",
        "colab_type": "code",
        "colab": {}
      },
      "source": [
        "class Solution(object):\n",
        "    def twoSum(self, nums, target):\n",
        "        \"\"\"\n",
        "        :type nums: List[int]\n",
        "        :type target: int\n",
        "        :rtype: List[int]\n",
        "        \"\"\"\n",
        "        for index1, num1 in enumerate(nums):\n",
        "            for index2, num2 in enumerate(nums):\n",
        "                if index1==index2:\n",
        "                    continue\n",
        "                elif num1 + num2 == target:\n",
        "                    return [index1, index2]\n",
        "        "
      ],
      "execution_count": 0,
      "outputs": []
    }
  ]
}